{
 "cells": [
  {
   "cell_type": "markdown",
   "metadata": {},
   "source": [
    "# Scraping using BeautifulSoup, Pandas, and Requests/Splinter"
   ]
  },
  {
   "cell_type": "code",
   "execution_count": 1,
   "metadata": {},
   "outputs": [],
   "source": [
    "## Dependencies\n",
    "\n",
    "from IPython.core.interactiveshell import InteractiveShell\n",
    "InteractiveShell.ast_node_interactivity = 'all'\n",
    "\n",
    "\n",
    "import requests\n",
    "from splinter import Browser\n",
    "from bs4 import BeautifulSoup as bs\n",
    "import time\n",
    "\n",
    "from urls_list import * #where all urls and paths are saved"
   ]
  },
  {
   "cell_type": "markdown",
   "metadata": {},
   "source": [
    "## NASA Mars News\n",
    "\n",
    "* **Scrape the NASA Mars News Site and collect the latest News Title and Paragraph Text. Assign the text to variables that we can reference later.**"
   ]
  },
  {
   "cell_type": "code",
   "execution_count": 8,
   "metadata": {},
   "outputs": [],
   "source": [
    "def scrape_latest_news():\n",
    "    #########################################################################################\n",
    "    #Scrape the latest news\n",
    "    #Returns news_title, news_p\n",
    "    #########################################################################################\n",
    "    \n",
    "    news_title, news_p = None, None\n",
    "    #Configure Browser\n",
    "    browser = Browser(browser_choice, executable_path=executable_path, headless=True)\n",
    "    try:\n",
    "        #Visit url\n",
    "        browser.visit(nasa_mars_news)\n",
    "        #bs object with lxml parser\n",
    "        soup = bs(browser.html, 'lxml')\n",
    "        news = soup.find('li', class_='slide').div.find(class_='list_text').find_all('div')\n",
    "        news_title, news_p = news[1].text, news[2].text\n",
    "    \n",
    "    except Exception as e:\n",
    "        print(e)\n",
    "            \n",
    "    #Close browser to avoid resource issue\n",
    "    browser.quit()\n",
    "    \n",
    "    \n",
    "    return (news_title, news_p)"
   ]
  },
  {
   "cell_type": "code",
   "execution_count": 10,
   "metadata": {},
   "outputs": [],
   "source": [
    "news_title, news_p = scrape_latest_news()"
   ]
  },
  {
   "cell_type": "code",
   "execution_count": 11,
   "metadata": {},
   "outputs": [
    {
     "data": {
      "text/plain": [
       "\"NASA's MAVEN Observes Martian Night Sky Pulsing in Ultraviolet Light\""
      ]
     },
     "execution_count": 11,
     "metadata": {},
     "output_type": "execute_result"
    },
    {
     "data": {
      "text/plain": [
       "'Vast areas of the Martian night sky pulse in ultraviolet light, according to images from NASA’s MAVEN spacecraft. The results are being used to illuminate complex circulation patterns in the Martian atmosphere.'"
      ]
     },
     "execution_count": 11,
     "metadata": {},
     "output_type": "execute_result"
    }
   ],
   "source": [
    "news_title\n",
    "news_p"
   ]
  },
  {
   "cell_type": "markdown",
   "metadata": {},
   "source": [
    "## JPL Mars Space Images - Featured Image\n",
    "\n",
    "* **Find the image url for the current Featured Mars Image and assign the url string to a variable called featured_image_url**"
   ]
  },
  {
   "cell_type": "code",
   "execution_count": 116,
   "metadata": {},
   "outputs": [],
   "source": [
    "def scrape_featured_image_url():\n",
    "    \n",
    "    #########################################################################################\n",
    "    #Scrape the featured image url from nasa jpl site\n",
    "    #Returns featured_image_url\n",
    "    #########################################################################################\n",
    "    \n",
    "    featured_image_url = None\n",
    "    #Configure Browser\n",
    "    browser = Browser(browser_choice, executable_path=executable_path, headless=True)\n",
    "\n",
    "    try:\n",
    "        #Visit url\n",
    "        browser.visit(nasa_jpl)\n",
    "        #bs object with lxml parser\n",
    "        soup = bs(browser.html, 'lxml')\n",
    "\n",
    "        #Click a button \"FULL IMAGE\"\n",
    "        browser.find_by_id('full_image', wait_time=1).click()\n",
    "\n",
    "        #Click more info button\n",
    "        browser.find_by_css('[id=\"fancybox-lock\"]')[0].find_by_css('div[class=\"buttons\"] a:nth-child(2)')[0].click()\n",
    "        time.sleep(1)\n",
    "\n",
    "        #Take the image link (largesize)\n",
    "        featured_image_url = browser.find_by_css('figure[class=\"lede\"] a')['href']\n",
    "        \n",
    "    except Exception as e:\n",
    "        print(e)\n",
    "            \n",
    "    #Close browser to avoid resource issue\n",
    "    browser.quit()\n",
    "\n",
    "    return featured_image_url"
   ]
  },
  {
   "cell_type": "code",
   "execution_count": 117,
   "metadata": {},
   "outputs": [],
   "source": [
    "\n",
    "featured_image_url = scrape_featured_image_url()"
   ]
  },
  {
   "cell_type": "code",
   "execution_count": null,
   "metadata": {},
   "outputs": [],
   "source": []
  }
 ],
 "metadata": {
  "kernelspec": {
   "display_name": "Python 3",
   "language": "python",
   "name": "python3"
  },
  "language_info": {
   "codemirror_mode": {
    "name": "ipython",
    "version": 3
   },
   "file_extension": ".py",
   "mimetype": "text/x-python",
   "name": "python",
   "nbconvert_exporter": "python",
   "pygments_lexer": "ipython3",
   "version": "3.8.1"
  }
 },
 "nbformat": 4,
 "nbformat_minor": 4
}
